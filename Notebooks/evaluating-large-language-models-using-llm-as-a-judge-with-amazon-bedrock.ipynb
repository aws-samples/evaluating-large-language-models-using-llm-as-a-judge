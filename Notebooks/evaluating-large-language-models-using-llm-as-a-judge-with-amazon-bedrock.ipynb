{
    "cells": [
     {
      "cell_type": "markdown",
      "id": "3c825696-de59-4e70-8461-af86a02d812b",
      "metadata": {
       "tags": []
      },
      "source": [
       "# Evaluating Large Language Models using LLM-as-a-Judge with Amazon Bedrock"
      ]
     },
     {
      "cell_type": "markdown",
      "id": "90832ab8-1405-4c45-b185-e65cf8b3b13e",
      "metadata": {},
      "source": [
       "This notebook serves as a base for evaluating Large Language Models using LLM-as-a-Judge with Amazon Bedrock. \n",
       "\n",
       ">  This notebook should work well with the Data Science 3.0 kernel in SageMaker Studio\n",
       "\n",
       "\n",
       "Evaluating large language models (LLM) is challenging due to their broad capabilities and the inadequacy of existing benchmarks in measuring human preferences. To address this, strong LLMs are used as judges to evaluate these models on more open-ended questions. The agreement between LLM judges and human preferences has been verified by introducing two benchmarks: [Multi Turn (MT)-bench](https://github.com/lm-sys/FastChat/tree/main/fastchat/llm_judge/data/mt_bench), a multi-turn question set, and [Chatbot Arena](https://arena.lmsys.org/), a crowdsourced battle platform. The results reveal that strong LLM judges can match both controlled and crowdsourced human preferences well, achieving over 80% agreement, the same level of agreement between humans. This makes LLM-as-a-judge a scalable and explainable way to approximate human preferences, which are otherwise very expensive to obtain.\n",
       "\n",
       "> ℹ️  **Note:** The evaluation steps in this lab are based on the paper  [Judging LLM-as-a-Judge with MT-Bench and Chatbot Arena](https://arxiv.org/pdf/2306.05685.pdf).\n",
       "\n",
       "This lab addresses this challenge by providing a practical solution for evaluating LLMs using LLM-as-a-Judge with Amazon Bedrock.  This is relevant for developers and researchers working on evaluating LLM based applications. In the notebook you are guided using MT-Bench questions to generate test answers and evaluate them with a single-answer grading using the Bedrock API, Python and Langchain. For demonstration purpose of this lab Claude Instant is evaluated and Claude 3 Sonnet is used as strong LLM judge. The notebook consists of the following chapters: \n",
       "\n",
       "1) [Setup of the environment](#1.-Setup-of-the-enviroment)\n",
       "2) [Load MT-Bench questions](#2.-Load-MT-Bench-questions)\n",
       "3) [Generate test answers from LLM which should be evaluated](#3.-Generate-test-answers-from-LLM-which-should-be-evaluated)\n",
       "4) [Evaluate answers with strong LLM-as-a-judge](#4.-Evaluate-answers-with-strong-LLM-as-a-judge)\n",
       "5) [Generate explanation for average rating score](#5.-Generate-explanation-for-average-rating-score)"
      ]
     },
     {
      "cell_type": "markdown",
      "id": "8c45dfee-35e1-467e-b831-f3b72f97f017",
      "metadata": {},
      "source": [
       "## 1. Setup of the enviroment"
      ]
     },
     {
      "cell_type": "markdown",
      "id": "cd06d4c4-500f-4dd0-ba19-6559f85fde9b",
      "metadata": {},
      "source": [
       "We start by installing the required libraries."
      ]
     },
     {
      "cell_type": "code",
      "execution_count": 2,
      "id": "bb52e396-d5b3-4a6c-bc85-5a577efd33cf",
      "metadata": {},
      "outputs": [],
      "source": [
       "%%capture \n",
       "%pip install langchain==0.1.10 boto3 tqdm"
      ]
     },
     {
      "cell_type": "markdown",
      "id": "6f81966d-ec79-42f1-9d05-446b5814b42f",
      "metadata": {},
      "source": [
       "## 2. Load MT-Bench question set"
      ]
     },
     {
      "cell_type": "markdown",
      "id": "eb150ca6-5373-48d9-8472-2266c1468e30",
      "metadata": {},
      "source": [
       "This lab uses the MT-Bench questions set which consists of 80 high-quality multi-turn questions. They are designed to test multi-turn conversation and instruction-following ability, covering common use cases and focusing on challenging questions to differentiate models.\n",
       "\n",
       "To evaluate custom applications or fine tuned LLMs, questions should be adjusted or created according to the use cases. They should focus on covering common uses cases and usage patterns.\n",
       "\n",
       "We download the questions to use them for evaluation."
      ]
     },
     {
      "cell_type": "code",
      "execution_count": 3,
      "id": "c19cfdf0-b995-4898-9d93-032c714bd645",
      "metadata": {
       "tags": []
      },
      "outputs": [],
      "source": [
       "# Import necessary libraries\n",
       "import requests\n",
       "import json\n",
       "\n",
       "# Download MT-Bench questions\n",
       "url = \"https://raw.githubusercontent.com/lm-sys/FastChat/main/fastchat/llm_judge/data/mt_bench/question.jsonl\"\n",
       "response = requests.get(url)\n",
       "lines = response.text.split(\"\\n\") \n",
       "\n",
       "# Iterate through lines and append them to questions array as json\n",
       "questions = []\n",
       "for line in lines:\n",
       "  if line:\n",
       "    questions.append(json.loads(line))"
      ]
     },
     {
      "cell_type": "markdown",
      "id": "4133b71d-9ee9-4808-85f3-f096f5e7e0fe",
      "metadata": {},
      "source": [
       "## 3. Generate test answers from LLM which should be evaluated"
      ]
     },
     {
      "cell_type": "markdown",
      "id": "ded3bed1-f6b7-4775-9f8b-6bbee2b962eb",
      "metadata": {},
      "source": [
       "Now that we have the questions stored, we use the LLM which should be evaluated to generate the answers to these questions. First we create a prompt template which we use in a second step to generate each answer."
      ]
     },
     {
      "cell_type": "code",
      "execution_count": 4,
      "id": "d8896ed0-4d83-4774-bb9f-bd4d6b5fb088",
      "metadata": {},
      "outputs": [],
      "source": [
       "# Import necessary libraries\n",
       "from langchain.prompts import PromptTemplate\n",
       "from langchain_community.chat_models import BedrockChat\n",
       "import boto3\n",
       "\n",
       "# Create bedrock client\n",
       "boto3_bedrock = boto3.client('bedrock-runtime', region_name='us-east-1')"
      ]
     },
     {
      "cell_type": "code",
      "execution_count": 5,
      "id": "3ff03e7e-31c2-4090-a3f1-b2bd013138a0",
      "metadata": {
       "tags": []
      },
      "outputs": [],
      "source": [
       "# Create a prompt template to generate a question a end-user could have about each open ended question\n",
       "initial_question_prompt_template = PromptTemplate(\n",
       "    input_variables=[\"input\",\"history\"],\n",
       "    template=\"\"\"HUMAN:\n",
       "    <role>You are an artificial intelligence assistant and answer questions from a curious user</role>\n",
       "    <task> Give a helpful, detailed, and polite answers to the user's question</task> \n",
       "    \n",
       "    Current conversation:\n",
       "    <conversation_history>\n",
       "    {history}\n",
       "    </conversation_history>\n",
       "    \n",
       "    Here is the human's next reply:\n",
       "    <human_reply>\n",
       "    {input}\n",
       "    </human_reply>\n",
       "\n",
       "    ANSWER:\"\"\")"
      ]
     },
     {
      "cell_type": "code",
      "execution_count": 6,
      "id": "e20f225d-8821-4524-bf35-791ebf07caff",
      "metadata": {
       "tags": []
      },
      "outputs": [],
      "source": [
       "# For each model provider there are different parameters to define when inferencing against the model. These depend on the use case.\n",
       "inference_modifier = {\n",
       "                        \"temperature\": 0.5,\n",
       "                        \"top_k\": 250,\n",
       "                        \"top_p\": 1,\n",
       "                    }\n",
       "                     \n",
       "\n",
       "evaluate_llm = BedrockChat(model_id = \"anthropic.claude-instant-v1\",\n",
       "                    client = boto3_bedrock, \n",
       "                    model_kwargs = inference_modifier \n",
       "                    )"
      ]
     },
     {
      "cell_type": "code",
      "execution_count": 7,
      "id": "92bc75f6-8dcb-488b-954a-c8bd1611e1da",
      "metadata": {
       "tags": []
      },
      "outputs": [],
      "source": [
       "# Import necessary libraries\n",
       "from langchain.memory import ConversationBufferMemory\n",
       "from langchain.chains import ConversationChain\n",
       "from tqdm.auto import tqdm"
      ]
     },
     {
      "cell_type": "markdown",
      "id": "7f67a224-e317-42d6-82a4-9af60b033210",
      "metadata": {},
      "source": [
       "ℹ️  **Note:** The next steps takes several minutes to complete."
      ]
     },
     {
      "cell_type": "code",
      "execution_count": 8,
      "id": "d81da9c9-dddd-43e7-a268-d7d4d26ed49a",
      "metadata": {
       "tags": []
      },
      "outputs": [
       {
        "data": {
         "application/vnd.jupyter.widget-view+json": {
          "model_id": "86dfc4c88a7e4c289ae35ca1377a03bf",
          "version_major": 2,
          "version_minor": 0
         },
         "text/plain": [
          "  0%|          | 0/80 [00:00<?, ?it/s]"
         ]
        },
        "metadata": {},
        "output_type": "display_data"
       }
      ],
      "source": [
       "# Create evaluation answers\n",
       "for question in tqdm(questions):\n",
       "    memory = ConversationBufferMemory(memory_key=\"history\", return_messages=True, ai_prefix=\"A\", human_prefix=\"H\")\n",
       "    conversation = ConversationChain(llm=evaluate_llm, verbose=False, memory=memory)\n",
       "    conversation.prompt = initial_question_prompt_template\n",
       "    question['answers'] = []\n",
       "    for turn in question['turns']:\n",
       "        question['answers'].append(conversation.invoke(input=turn))"
      ]
     },
     {
      "cell_type": "markdown",
      "id": "f9e68c6b-c0be-4416-9ba9-e47c2c1ecd61",
      "metadata": {},
      "source": [
       "## 4. Evaluate answers with strong LLM-as-a-Judge"
      ]
     },
     {
      "cell_type": "markdown",
      "id": "a99b7756-952d-479e-8e4d-f4733a924a3a",
      "metadata": {},
      "source": [
       "In this step we use the strong LLM-as-a-Judge for evaluation.\n",
       "\n",
       "Keep mind there are certian biases and limitations to this approach:\n",
       "- Position bias refers to the tendency of LLMs used as judges, to be influenced by the position or order of information presented to them.\n",
       "- Verbosity bias refers to the tendency of LLMs used as judges, to prefer verbose or overly long responses, even when a more concise answer would be more appropriate.\n",
       "- Self-enhancement bias refers to the tendency of LLMs used as judges, to evaluate or present themselves in a more favorable light, even if it may not align with reality.\n",
       "\n",
       "These limitations have to be taken into consideration when creating custom questions, creating the prompt templates, and choosing a LLM-as-a-Judge.\n",
       "However, despite these limitations the agreement between LLM judges and humans is high.\n",
       "\n",
       "First we create a prompt template the generate a ranking score from 0..10 and an explanation. In the second step, we calculate the average ranking score, display the distribution of ranking scores, and an overall explanation of the average score.\n"
      ]
     },
     {
      "cell_type": "code",
      "execution_count": 9,
      "id": "45a52d85-ddf4-41ee-9822-3853ff8a8413",
      "metadata": {},
      "outputs": [],
      "source": [
       "# Create a prompt template to generate a ranking and an explanation.\n",
       "eval_prompt_template = PromptTemplate(\n",
       "    input_variables=[\"question1\",\"answer1\",\"question2\",\"answer2\"],\n",
       "    template=\"\"\"HUMAN:\n",
       "    <role>Please act as an impartial judge and evaluate the quality of the response provided by an AI assistant to the user question displayed below.</role>\n",
       "    <task>Your evaluation should consider factors such as the helpfulness, relevance, accuracy, depth, creativity, and level of detail of the response. Your evaluation should focus on the assistant's answer to the second user question. Begin your evaluation by providing a short explanation. Be as objective as possible. After providing your explanation, you must rate the response on a scale of 1 to 10 by strictly following this format: \\\"<rating></rating>\\\", for example: \\\"Rating: <rating>5</rating>\\</task> \n",
       "    \n",
       "    <user_assistant_conversation>\n",
       "        Human:\n",
       "        <question_1>\n",
       "        {question1}\n",
       "        </question_1>\n",
       "\n",
       "        Assistant:\n",
       "        <answer_1>\n",
       "        {answer1}\n",
       "        </answer_1>\n",
       "\n",
       "        Human:\n",
       "        <question_2>\n",
       "        {question2}\n",
       "        </question_2>\n",
       "\n",
       "        Assistant:\n",
       "        <answer_2>\n",
       "        {answer2}\n",
       "        </answer_2>\n",
       "    </user_assistant_conversation>\n",
       "\n",
       "    ANSWER:\"\"\")"
      ]
     },
     {
      "cell_type": "code",
      "execution_count": 10,
      "id": "63d18812-ed8b-48b2-a520-448b74a99e03",
      "metadata": {
       "tags": []
      },
      "outputs": [],
      "source": [
       "# For each model provider there are different parameters to define when inferencing against the model. These depend on the use case.\n",
       "eval_inference_modifier = {\n",
       "                        \"temperature\": 0.5,\n",
       "                        \"top_k\": 250,\n",
       "                        \"top_p\": 1,\n",
       "                    }\n",
       "                     \n",
       "\n",
       "eval_llm = BedrockChat(model_id = \"anthropic.claude-3-sonnet-20240229-v1:0\",\n",
       "                    client = boto3_bedrock, \n",
       "                    model_kwargs = inference_modifier \n",
       "                    )"
      ]
     },
     {
      "cell_type": "markdown",
      "id": "e0e0ac00-172c-4760-93ca-9b8de10345bd",
      "metadata": {},
      "source": [
       "ℹ️  **Note:** The next steps takes several minutes to complete."
      ]
     },
     {
      "cell_type": "code",
      "execution_count": 11,
      "id": "90722ec0-9a6c-4345-a4f4-1c41cb029afb",
      "metadata": {
       "tags": []
      },
      "outputs": [
       {
        "data": {
         "application/vnd.jupyter.widget-view+json": {
          "model_id": "7b44f895bfcd4623a52d933260af4053",
          "version_major": 2,
          "version_minor": 0
         },
         "text/plain": [
          "  0%|          | 0/80 [00:00<?, ?it/s]"
         ]
        },
        "metadata": {},
        "output_type": "display_data"
       }
      ],
      "source": [
       "# Evaluate previous generated answers\n",
       "import re\n",
       "amount_questions = 0\n",
       "ratings_add_up = 0\n",
       "reg_str = \"<rating>(.*?)</rating>\"\n",
       "explanation_rating = []\n",
       "for question in tqdm(questions):\n",
       "    question1 = question['answers'][0]['input']\n",
       "    question2 = question['answers'][1]['input']\n",
       "    answer1 = question['answers'][0]['response']\n",
       "    answer2 = question['answers'][1]['response']\n",
       "    question['rating_text'] = eval_llm.invoke(eval_prompt_template.format(question1 = question1, answer1 = answer1, question2=question2, answer2=answer2)).content\n",
       "    tag_value = re.search(reg_str, question['rating_text'])\n",
       "    if tag_value: \n",
       "        question['rating_score'] = tag_value.group(1)\n",
       "        explanation_rating.append(question['rating_text'])\n",
       "        amount_questions = amount_questions + 1\n",
       "        ratings_add_up = ratings_add_up + int(question['rating_score'])"
      ]
     },
     {
      "cell_type": "code",
      "execution_count": 12,
      "id": "ad0bf06d-dd94-4cdc-9855-41a596328302",
      "metadata": {
       "tags": []
      },
      "outputs": [
       {
        "name": "stdout",
        "output_type": "stream",
        "text": [
         "The average rating score is: 8.6125\n"
        ]
       }
      ],
      "source": [
       "# Calculate the average rating score\n",
       "average_rating = ratings_add_up/amount_questions\n",
       "print(\"The average rating score is: {}\".format(average_rating))"
      ]
     },
     {
      "cell_type": "code",
      "execution_count": 13,
      "id": "7917b47a-4c7c-4ec2-94fb-f290a1d2addb",
      "metadata": {},
      "outputs": [
       {
        "data": {
         "image/png": "[encoded data removed]",
         "text/plain": [
          "<Figure size 640x480 with 1 Axes>"
         ]
        },
        "metadata": {},
        "output_type": "display_data"
       }
      ],
      "source": [
       "# Diplay rating scores in bar chart\n",
       "import matplotlib.pyplot as plt\n",
       "from operator import countOf\n",
       "\n",
       "rating_scores = []\n",
       "for question in questions:\n",
       "    if 'rating_score' in question: \n",
       "        rating_scores.append(question['rating_score'])\n",
       "\n",
       "bar_labels = []\n",
       "rating_scores_count = []\n",
       "\n",
       "for x in range(11):\n",
       "    bar_labels.append(str(x))\n",
       "    rating_scores_count.append(countOf(rating_scores,str(x)))\n",
       "\n",
       "fig, ax = plt.subplots()\n",
       "ax.bar(bar_labels, rating_scores_count)\n",
       "ax.set_ylabel('Distribution')\n",
       "ax.set_xlabel('Rating score')\n",
       "plt.axvline(x=average_rating, color='tab:red')\n",
       "plt.legend(['Average rating score','Distribution rating score'])\n",
       "plt.show()\n"
      ]
     },
     {
      "cell_type": "markdown",
      "id": "2e4c565e-ca5e-4a7a-9587-7d036228c609",
      "metadata": {},
      "source": [
       "## 5. Generate explanation for average rating score"
      ]
     },
     {
      "cell_type": "markdown",
      "id": "019df54a-1c4d-4096-9508-f4ee356feb08",
      "metadata": {},
      "source": [
       "To explain the average rating score, each rating explanation can be used to create a summary and identiy areas for improvements to further optimize the application."
      ]
     },
     {
      "cell_type": "code",
      "execution_count": 14,
      "id": "bfa61bdc-e5dc-4ccf-833f-2c07414d8b9e",
      "metadata": {},
      "outputs": [],
      "source": [
       "# Define prompt to summarize all ratings to explain the given average rating\n",
       "summary_prompt_template = \"\"\"HUMAN:\n",
       "<role>Please act as an impartial summarizer and summarize the following explanations from a LLM as a judge to one single statement</role>\n",
       "<task>Explain the main areas for improvement. Also, write a concise summary of the following explantions from a LLM as a judge to explain the average rating given which the LLM as judge gave. </task>\n",
       "\n",
       "<average_rating>{average_rating}</average_rating>\n",
       "<explanations>{explanations}</explanations>\n",
       "ANSWER:\"\"\"\n",
       "summary_prompt = PromptTemplate.from_template(summary_prompt_template)"
      ]
     },
     {
      "cell_type": "code",
      "execution_count": 15,
      "id": "fa67becf-81e3-4ae3-aab5-b5dcf5094863",
      "metadata": {},
      "outputs": [],
      "source": [
       "explanation_avg_rating = eval_llm.invoke(summary_prompt.format(average_rating=average_rating, explanations=explanation_rating)).content"
      ]
     },
     {
      "cell_type": "code",
      "execution_count": 16,
      "id": "cf44bb82-9c23-49d2-b2fe-c4041d030c6a",
      "metadata": {},
      "outputs": [
       {
        "name": "stdout",
        "output_type": "stream",
        "text": [
         "Based on the explanations provided, the main areas for improvement seem to be:\n",
         "\n",
         "1. Providing more concise summaries or conclusions at times to reinforce the key points.\n",
         "2. Expanding on certain aspects with additional details, examples, or context where relevant.\n",
         "3. Analyzing complexities like time/space complexity, alternative approaches, or potential limitations in more depth for some technical responses.\n",
         "\n",
         "As for the average rating of 8.6125 given by the LLM judge, the explanations suggest that the assistant's responses were generally of high quality, demonstrating strong understanding, accuracy, relevance, and helpfulness in addressing the given tasks or questions. The judge commended the assistant's creativity, level of detail, clear explanations, and ability to provide well-reasoned and insightful solutions across a diverse range of topics and scenarios. However, there were occasional opportunities for improvement in areas like conciseness, depth of analysis, and considering additional nuances or perspectives, which likely prevented some responses from achieving a perfect 10/10 rating.\n"
        ]
       }
      ],
      "source": [
       "print(explanation_avg_rating)"
      ]
     },
     {
      "cell_type": "markdown",
      "id": "cea3c480-9d28-4d75-9248-abcae16c45c2",
      "metadata": {},
      "source": [
       "## Conclusion"
      ]
     },
     {
      "cell_type": "markdown",
      "id": "a3f5d0d6-4a5a-49fe-8ff6-8d5f6ddc3fea",
      "metadata": {},
      "source": [
       "The lab demonstrates a practical approach for evaluating large language models (LLMs) using the LLM-as-a-Judge technique with Amazon Bedrock. This method addresses the challenges in evaluating LLMs due to their broad capabilities and the limitations of existing benchmarks in measuring human preferences.\n",
       "\n",
       "By leveraging strong LLM judges, such as Claude 3 Sonnet in this notebook, the lab showcases how to assess the performance of LLMs like Claude Instant on the Multi Turn (MT)-Bench, a benchmark designed to measure alignment with human preferences. \n",
       "\n",
       "This approach makes LLM-as-a-judge a scalable and explainable way to approximate human preferences, which are otherwise very costly to obtain. The notebook provides a step-by-step guide on setting up the environment, loading the MT-Bench questions, generating test answers from the LLM under evaluation, leveraging the Bedrock API to assess the answers using the LLM judge, and visualize the results.\n",
       "\n",
       "The successful demonstration of this LLM-as-a-Judge methodology with Amazon Bedrock demonstrates the potential for developers and researchers working on LLM-based applications to adopt this innovative evaluation technique. By understanding the alignment of their models with human preferences, they can make more informed decisions and continue to improve the capabilities of these powerful language models."
      ]
     }
    ],
    "metadata": {
     "availableInstances": [
      {
       "_defaultOrder": 0,
       "_isFastLaunch": true,
       "category": "General purpose",
       "gpuNum": 0,
       "hideHardwareSpecs": false,
       "memoryGiB": 4,
       "name": "ml.t3.medium",
       "vcpuNum": 2
      },
      {
       "_defaultOrder": 1,
       "_isFastLaunch": false,
       "category": "General purpose",
       "gpuNum": 0,
       "hideHardwareSpecs": false,
       "memoryGiB": 8,
       "name": "ml.t3.large",
       "vcpuNum": 2
      },
      {
       "_defaultOrder": 2,
       "_isFastLaunch": false,
       "category": "General purpose",
       "gpuNum": 0,
       "hideHardwareSpecs": false,
       "memoryGiB": 16,
       "name": "ml.t3.xlarge",
       "vcpuNum": 4
      },
      {
       "_defaultOrder": 3,
       "_isFastLaunch": false,
       "category": "General purpose",
       "gpuNum": 0,
       "hideHardwareSpecs": false,
       "memoryGiB": 32,
       "name": "ml.t3.2xlarge",
       "vcpuNum": 8
      },
      {
       "_defaultOrder": 4,
       "_isFastLaunch": true,
       "category": "General purpose",
       "gpuNum": 0,
       "hideHardwareSpecs": false,
       "memoryGiB": 8,
       "name": "ml.m5.large",
       "vcpuNum": 2
      },
      {
       "_defaultOrder": 5,
       "_isFastLaunch": false,
       "category": "General purpose",
       "gpuNum": 0,
       "hideHardwareSpecs": false,
       "memoryGiB": 16,
       "name": "ml.m5.xlarge",
       "vcpuNum": 4
      },
      {
       "_defaultOrder": 6,
       "_isFastLaunch": false,
       "category": "General purpose",
       "gpuNum": 0,
       "hideHardwareSpecs": false,
       "memoryGiB": 32,
       "name": "ml.m5.2xlarge",
       "vcpuNum": 8
      },
      {
       "_defaultOrder": 7,
       "_isFastLaunch": false,
       "category": "General purpose",
       "gpuNum": 0,
       "hideHardwareSpecs": false,
       "memoryGiB": 64,
       "name": "ml.m5.4xlarge",
       "vcpuNum": 16
      },
      {
       "_defaultOrder": 8,
       "_isFastLaunch": false,
       "category": "General purpose",
       "gpuNum": 0,
       "hideHardwareSpecs": false,
       "memoryGiB": 128,
       "name": "ml.m5.8xlarge",
       "vcpuNum": 32
      },
      {
       "_defaultOrder": 9,
       "_isFastLaunch": false,
       "category": "General purpose",
       "gpuNum": 0,
       "hideHardwareSpecs": false,
       "memoryGiB": 192,
       "name": "ml.m5.12xlarge",
       "vcpuNum": 48
      },
      {
       "_defaultOrder": 10,
       "_isFastLaunch": false,
       "category": "General purpose",
       "gpuNum": 0,
       "hideHardwareSpecs": false,
       "memoryGiB": 256,
       "name": "ml.m5.16xlarge",
       "vcpuNum": 64
      },
      {
       "_defaultOrder": 11,
       "_isFastLaunch": false,
       "category": "General purpose",
       "gpuNum": 0,
       "hideHardwareSpecs": false,
       "memoryGiB": 384,
       "name": "ml.m5.24xlarge",
       "vcpuNum": 96
      },
      {
       "_defaultOrder": 12,
       "_isFastLaunch": false,
       "category": "General purpose",
       "gpuNum": 0,
       "hideHardwareSpecs": false,
       "memoryGiB": 8,
       "name": "ml.m5d.large",
       "vcpuNum": 2
      },
      {
       "_defaultOrder": 13,
       "_isFastLaunch": false,
       "category": "General purpose",
       "gpuNum": 0,
       "hideHardwareSpecs": false,
       "memoryGiB": 16,
       "name": "ml.m5d.xlarge",
       "vcpuNum": 4
      },
      {
       "_defaultOrder": 14,
       "_isFastLaunch": false,
       "category": "General purpose",
       "gpuNum": 0,
       "hideHardwareSpecs": false,
       "memoryGiB": 32,
       "name": "ml.m5d.2xlarge",
       "vcpuNum": 8
      },
      {
       "_defaultOrder": 15,
       "_isFastLaunch": false,
       "category": "General purpose",
       "gpuNum": 0,
       "hideHardwareSpecs": false,
       "memoryGiB": 64,
       "name": "ml.m5d.4xlarge",
       "vcpuNum": 16
      },
      {
       "_defaultOrder": 16,
       "_isFastLaunch": false,
       "category": "General purpose",
       "gpuNum": 0,
       "hideHardwareSpecs": false,
       "memoryGiB": 128,
       "name": "ml.m5d.8xlarge",
       "vcpuNum": 32
      },
      {
       "_defaultOrder": 17,
       "_isFastLaunch": false,
       "category": "General purpose",
       "gpuNum": 0,
       "hideHardwareSpecs": false,
       "memoryGiB": 192,
       "name": "ml.m5d.12xlarge",
       "vcpuNum": 48
      },
      {
       "_defaultOrder": 18,
       "_isFastLaunch": false,
       "category": "General purpose",
       "gpuNum": 0,
       "hideHardwareSpecs": false,
       "memoryGiB": 256,
       "name": "ml.m5d.16xlarge",
       "vcpuNum": 64
      },
      {
       "_defaultOrder": 19,
       "_isFastLaunch": false,
       "category": "General purpose",
       "gpuNum": 0,
       "hideHardwareSpecs": false,
       "memoryGiB": 384,
       "name": "ml.m5d.24xlarge",
       "vcpuNum": 96
      },
      {
       "_defaultOrder": 20,
       "_isFastLaunch": false,
       "category": "General purpose",
       "gpuNum": 0,
       "hideHardwareSpecs": true,
       "memoryGiB": 0,
       "name": "ml.geospatial.interactive",
       "supportedImageNames": [
        "sagemaker-geospatial-v1-0"
       ],
       "vcpuNum": 0
      },
      {
       "_defaultOrder": 21,
       "_isFastLaunch": true,
       "category": "Compute optimized",
       "gpuNum": 0,
       "hideHardwareSpecs": false,
       "memoryGiB": 4,
       "name": "ml.c5.large",
       "vcpuNum": 2
      },
      {
       "_defaultOrder": 22,
       "_isFastLaunch": false,
       "category": "Compute optimized",
       "gpuNum": 0,
       "hideHardwareSpecs": false,
       "memoryGiB": 8,
       "name": "ml.c5.xlarge",
       "vcpuNum": 4
      },
      {
       "_defaultOrder": 23,
       "_isFastLaunch": false,
       "category": "Compute optimized",
       "gpuNum": 0,
       "hideHardwareSpecs": false,
       "memoryGiB": 16,
       "name": "ml.c5.2xlarge",
       "vcpuNum": 8
      },
      {
       "_defaultOrder": 24,
       "_isFastLaunch": false,
       "category": "Compute optimized",
       "gpuNum": 0,
       "hideHardwareSpecs": false,
       "memoryGiB": 32,
       "name": "ml.c5.4xlarge",
       "vcpuNum": 16
      },
      {
       "_defaultOrder": 25,
       "_isFastLaunch": false,
       "category": "Compute optimized",
       "gpuNum": 0,
       "hideHardwareSpecs": false,
       "memoryGiB": 72,
       "name": "ml.c5.9xlarge",
       "vcpuNum": 36
      },
      {
       "_defaultOrder": 26,
       "_isFastLaunch": false,
       "category": "Compute optimized",
       "gpuNum": 0,
       "hideHardwareSpecs": false,
       "memoryGiB": 96,
       "name": "ml.c5.12xlarge",
       "vcpuNum": 48
      },
      {
       "_defaultOrder": 27,
       "_isFastLaunch": false,
       "category": "Compute optimized",
       "gpuNum": 0,
       "hideHardwareSpecs": false,
       "memoryGiB": 144,
       "name": "ml.c5.18xlarge",
       "vcpuNum": 72
      },
      {
       "_defaultOrder": 28,
       "_isFastLaunch": false,
       "category": "Compute optimized",
       "gpuNum": 0,
       "hideHardwareSpecs": false,
       "memoryGiB": 192,
       "name": "ml.c5.24xlarge",
       "vcpuNum": 96
      },
      {
       "_defaultOrder": 29,
       "_isFastLaunch": true,
       "category": "Accelerated computing",
       "gpuNum": 1,
       "hideHardwareSpecs": false,
       "memoryGiB": 16,
       "name": "ml.g4dn.xlarge",
       "vcpuNum": 4
      },
      {
       "_defaultOrder": 30,
       "_isFastLaunch": false,
       "category": "Accelerated computing",
       "gpuNum": 1,
       "hideHardwareSpecs": false,
       "memoryGiB": 32,
       "name": "ml.g4dn.2xlarge",
       "vcpuNum": 8
      },
      {
       "_defaultOrder": 31,
       "_isFastLaunch": false,
       "category": "Accelerated computing",
       "gpuNum": 1,
       "hideHardwareSpecs": false,
       "memoryGiB": 64,
       "name": "ml.g4dn.4xlarge",
       "vcpuNum": 16
      },
      {
       "_defaultOrder": 32,
       "_isFastLaunch": false,
       "category": "Accelerated computing",
       "gpuNum": 1,
       "hideHardwareSpecs": false,
       "memoryGiB": 128,
       "name": "ml.g4dn.8xlarge",
       "vcpuNum": 32
      },
      {
       "_defaultOrder": 33,
       "_isFastLaunch": false,
       "category": "Accelerated computing",
       "gpuNum": 4,
       "hideHardwareSpecs": false,
       "memoryGiB": 192,
       "name": "ml.g4dn.12xlarge",
       "vcpuNum": 48
      },
      {
       "_defaultOrder": 34,
       "_isFastLaunch": false,
       "category": "Accelerated computing",
       "gpuNum": 1,
       "hideHardwareSpecs": false,
       "memoryGiB": 256,
       "name": "ml.g4dn.16xlarge",
       "vcpuNum": 64
      },
      {
       "_defaultOrder": 35,
       "_isFastLaunch": false,
       "category": "Accelerated computing",
       "gpuNum": 1,
       "hideHardwareSpecs": false,
       "memoryGiB": 61,
       "name": "ml.p3.2xlarge",
       "vcpuNum": 8
      },
      {
       "_defaultOrder": 36,
       "_isFastLaunch": false,
       "category": "Accelerated computing",
       "gpuNum": 4,
       "hideHardwareSpecs": false,
       "memoryGiB": 244,
       "name": "ml.p3.8xlarge",
       "vcpuNum": 32
      },
      {
       "_defaultOrder": 37,
       "_isFastLaunch": false,
       "category": "Accelerated computing",
       "gpuNum": 8,
       "hideHardwareSpecs": false,
       "memoryGiB": 488,
       "name": "ml.p3.16xlarge",
       "vcpuNum": 64
      },
      {
       "_defaultOrder": 38,
       "_isFastLaunch": false,
       "category": "Accelerated computing",
       "gpuNum": 8,
       "hideHardwareSpecs": false,
       "memoryGiB": 768,
       "name": "ml.p3dn.24xlarge",
       "vcpuNum": 96
      },
      {
       "_defaultOrder": 39,
       "_isFastLaunch": false,
       "category": "Memory Optimized",
       "gpuNum": 0,
       "hideHardwareSpecs": false,
       "memoryGiB": 16,
       "name": "ml.r5.large",
       "vcpuNum": 2
      },
      {
       "_defaultOrder": 40,
       "_isFastLaunch": false,
       "category": "Memory Optimized",
       "gpuNum": 0,
       "hideHardwareSpecs": false,
       "memoryGiB": 32,
       "name": "ml.r5.xlarge",
       "vcpuNum": 4
      },
      {
       "_defaultOrder": 41,
       "_isFastLaunch": false,
       "category": "Memory Optimized",
       "gpuNum": 0,
       "hideHardwareSpecs": false,
       "memoryGiB": 64,
       "name": "ml.r5.2xlarge",
       "vcpuNum": 8
      },
      {
       "_defaultOrder": 42,
       "_isFastLaunch": false,
       "category": "Memory Optimized",
       "gpuNum": 0,
       "hideHardwareSpecs": false,
       "memoryGiB": 128,
       "name": "ml.r5.4xlarge",
       "vcpuNum": 16
      },
      {
       "_defaultOrder": 43,
       "_isFastLaunch": false,
       "category": "Memory Optimized",
       "gpuNum": 0,
       "hideHardwareSpecs": false,
       "memoryGiB": 256,
       "name": "ml.r5.8xlarge",
       "vcpuNum": 32
      },
      {
       "_defaultOrder": 44,
       "_isFastLaunch": false,
       "category": "Memory Optimized",
       "gpuNum": 0,
       "hideHardwareSpecs": false,
       "memoryGiB": 384,
       "name": "ml.r5.12xlarge",
       "vcpuNum": 48
      },
      {
       "_defaultOrder": 45,
       "_isFastLaunch": false,
       "category": "Memory Optimized",
       "gpuNum": 0,
       "hideHardwareSpecs": false,
       "memoryGiB": 512,
       "name": "ml.r5.16xlarge",
       "vcpuNum": 64
      },
      {
       "_defaultOrder": 46,
       "_isFastLaunch": false,
       "category": "Memory Optimized",
       "gpuNum": 0,
       "hideHardwareSpecs": false,
       "memoryGiB": 768,
       "name": "ml.r5.24xlarge",
       "vcpuNum": 96
      },
      {
       "_defaultOrder": 47,
       "_isFastLaunch": false,
       "category": "Accelerated computing",
       "gpuNum": 1,
       "hideHardwareSpecs": false,
       "memoryGiB": 16,
       "name": "ml.g5.xlarge",
       "vcpuNum": 4
      },
      {
       "_defaultOrder": 48,
       "_isFastLaunch": false,
       "category": "Accelerated computing",
       "gpuNum": 1,
       "hideHardwareSpecs": false,
       "memoryGiB": 32,
       "name": "ml.g5.2xlarge",
       "vcpuNum": 8
      },
      {
       "_defaultOrder": 49,
       "_isFastLaunch": false,
       "category": "Accelerated computing",
       "gpuNum": 1,
       "hideHardwareSpecs": false,
       "memoryGiB": 64,
       "name": "ml.g5.4xlarge",
       "vcpuNum": 16
      },
      {
       "_defaultOrder": 50,
       "_isFastLaunch": false,
       "category": "Accelerated computing",
       "gpuNum": 1,
       "hideHardwareSpecs": false,
       "memoryGiB": 128,
       "name": "ml.g5.8xlarge",
       "vcpuNum": 32
      },
      {
       "_defaultOrder": 51,
       "_isFastLaunch": false,
       "category": "Accelerated computing",
       "gpuNum": 1,
       "hideHardwareSpecs": false,
       "memoryGiB": 256,
       "name": "ml.g5.16xlarge",
       "vcpuNum": 64
      },
      {
       "_defaultOrder": 52,
       "_isFastLaunch": false,
       "category": "Accelerated computing",
       "gpuNum": 4,
       "hideHardwareSpecs": false,
       "memoryGiB": 192,
       "name": "ml.g5.12xlarge",
       "vcpuNum": 48
      },
      {
       "_defaultOrder": 53,
       "_isFastLaunch": false,
       "category": "Accelerated computing",
       "gpuNum": 4,
       "hideHardwareSpecs": false,
       "memoryGiB": 384,
       "name": "ml.g5.24xlarge",
       "vcpuNum": 96
      },
      {
       "_defaultOrder": 54,
       "_isFastLaunch": false,
       "category": "Accelerated computing",
       "gpuNum": 8,
       "hideHardwareSpecs": false,
       "memoryGiB": 768,
       "name": "ml.g5.48xlarge",
       "vcpuNum": 192
      },
      {
       "_defaultOrder": 55,
       "_isFastLaunch": false,
       "category": "Accelerated computing",
       "gpuNum": 8,
       "hideHardwareSpecs": false,
       "memoryGiB": 1152,
       "name": "ml.p4d.24xlarge",
       "vcpuNum": 96
      },
      {
       "_defaultOrder": 56,
       "_isFastLaunch": false,
       "category": "Accelerated computing",
       "gpuNum": 8,
       "hideHardwareSpecs": false,
       "memoryGiB": 1152,
       "name": "ml.p4de.24xlarge",
       "vcpuNum": 96
      },
      {
       "_defaultOrder": 57,
       "_isFastLaunch": false,
       "category": "Accelerated computing",
       "gpuNum": 0,
       "hideHardwareSpecs": false,
       "memoryGiB": 32,
       "name": "ml.trn1.2xlarge",
       "vcpuNum": 8
      },
      {
       "_defaultOrder": 58,
       "_isFastLaunch": false,
       "category": "Accelerated computing",
       "gpuNum": 0,
       "hideHardwareSpecs": false,
       "memoryGiB": 512,
       "name": "ml.trn1.32xlarge",
       "vcpuNum": 128
      },
      {
       "_defaultOrder": 59,
       "_isFastLaunch": false,
       "category": "Accelerated computing",
       "gpuNum": 0,
       "hideHardwareSpecs": false,
       "memoryGiB": 512,
       "name": "ml.trn1n.32xlarge",
       "vcpuNum": 128
      }
     ],
     "instance_type": "ml.t3.medium",
     "kernelspec": {
      "display_name": "Python 3 (ipykernel)",
      "language": "python",
      "name": "python3"
     },
     "language_info": {
      "codemirror_mode": {
       "name": "ipython",
       "version": 3
      },
      "file_extension": ".py",
      "mimetype": "text/x-python",
      "name": "python",
      "nbconvert_exporter": "python",
      "pygments_lexer": "ipython3",
      "version": "3.10.13"
     }
    },
    "nbformat": 4,
    "nbformat_minor": 5
   }
   